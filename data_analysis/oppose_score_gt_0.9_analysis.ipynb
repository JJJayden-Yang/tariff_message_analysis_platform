{
 "cells": [
  {
   "cell_type": "code",
   "id": "initial_id",
   "metadata": {
    "collapsed": true,
    "ExecuteTime": {
     "end_time": "2025-05-19T07:10:43.895983Z",
     "start_time": "2025-05-19T07:10:43.891448Z"
    }
   },
   "source": [
    "import requests\n",
    "import logging\n",
    "import urllib3\n",
    "urllib3.disable_warnings(urllib3.exceptions.InsecureRequestWarning)\n",
    "logging.getLogger(\"transformers.modeling_utils\").setLevel(logging.ERROR)\n",
    "import json\n",
    "import re\n",
    "import emoji\n",
    "from tqdm import tqdm\n",
    "from transformers import pipeline"
   ],
   "outputs": [],
   "execution_count": 6
  },
  {
   "metadata": {
    "ExecuteTime": {
     "end_time": "2025-05-19T07:10:43.912097Z",
     "start_time": "2025-05-19T07:10:43.909303Z"
    }
   },
   "cell_type": "code",
   "source": [
    "url = \"https://127.0.0.1:9200/final_data/_search\"\n",
    "auth = ('elastic', 'elastic')\n",
    "headers = {'Content-Type': 'application/json'}"
   ],
   "id": "fda5e1ceac76c6cc",
   "outputs": [],
   "execution_count": 7
  },
  {
   "metadata": {
    "ExecuteTime": {
     "end_time": "2025-05-19T07:10:45.572476Z",
     "start_time": "2025-05-19T07:10:43.924909Z"
    }
   },
   "cell_type": "code",
   "source": [
    "classifier = pipeline(\n",
    "    \"zero-shot-classification\",\n",
    "    model=\"joeddav/xlm-roberta-large-xnli\",\n",
    "    device=\"cpu\"\n",
    ")\n",
    "\n",
    "labels = [\n",
    "    \"agrees with the main post (oppose tariff)\",\n",
    "    \"disagrees with the main post (support tariff)\",\n",
    "    \"neutral or irrelevant\"\n",
    "]\n",
    "\n",
    "label_mapping = {\n",
    "    \"agrees with the main post (oppose tariff)\": \"oppose tariff\",\n",
    "    \"disagrees with the main post (support tariff)\": \"support tariff\",\n",
    "    \"neutral or irrelevant\": \"unknown\"\n",
    "}"
   ],
   "id": "f8a26b7f5b8c6c28",
   "outputs": [
    {
     "name": "stderr",
     "output_type": "stream",
     "text": [
      "Device set to use cpu\n"
     ]
    }
   ],
   "execution_count": 8
  },
  {
   "metadata": {
    "ExecuteTime": {
     "end_time": "2025-05-19T07:10:45.581141Z",
     "start_time": "2025-05-19T07:10:45.578838Z"
    }
   },
   "cell_type": "code",
   "source": [
    "def text_preprocessing(text):\n",
    "    if not isinstance(text, str):\n",
    "        return \"\"\n",
    "    # remove URLs\n",
    "    text = re.sub(r'http\\S+|www\\S+', '', text)\n",
    "    # remove HTML tags\n",
    "    text = re.sub(r'<.*?>', '', text)\n",
    "    # remove Markdown images and links\n",
    "    text = re.sub(r'!\\[.*?\\]\\(.*?\\)', '', text)\n",
    "    text = re.sub(r'\\[.*?\\]\\(.*?\\)', '', text)\n",
    "    # keep hashtag words, remove the \"#\" symbol\n",
    "    text = re.sub(r'#(\\w+)', r'\\1', text)\n",
    "    # remove @someone\n",
    "    text = re.sub(r'@\\w+', '', text)\n",
    "    # convert emojis to text descriptions\n",
    "    text = emoji.demojize(text)\n",
    "    # normalize line breaks\n",
    "    text = text.replace('\\n', ' ').replace('\\r', ' ')\n",
    "    # convert multiple whitespace into one space\n",
    "    text = re.sub(r'\\s+', ' ', text)\n",
    "    # remove extra whitespace from start and end of text\n",
    "    return text.strip()"
   ],
   "id": "bd0a2975a1441308",
   "outputs": [],
   "execution_count": 9
  },
  {
   "metadata": {
    "ExecuteTime": {
     "end_time": "2025-05-19T07:10:46.391900Z",
     "start_time": "2025-05-19T07:10:45.591579Z"
    }
   },
   "cell_type": "code",
   "source": [
    "query = {\n",
    "    \"size\": 10000,\n",
    "    \"query\": {\n",
    "        \"bool\": {\n",
    "            \"must\": [\n",
    "                {\"term\": {\"author.status.label\": \"oppose tariff\"}},\n",
    "                {\"range\": {\"author.status.score\": {\"gt\": 0.9}}}\n",
    "            ]\n",
    "        }\n",
    "    }\n",
    "}\n",
    "\n",
    "response = requests.get(\n",
    "    url,\n",
    "    headers=headers,\n",
    "    auth=auth,\n",
    "    json=query,\n",
    "    verify=False\n",
    ")"
   ],
   "id": "82ef902a0234ee03",
   "outputs": [],
   "execution_count": 10
  },
  {
   "metadata": {
    "ExecuteTime": {
     "end_time": "2025-05-19T07:12:02.379718Z",
     "start_time": "2025-05-19T07:12:02.372667Z"
    }
   },
   "cell_type": "code",
   "source": [
    "def run_sentiment_pipeline(data):\n",
    "    documents = [hit[\"_source\"] for hit in data[\"hits\"][\"hits\"]]\n",
    "\n",
    "    for doc in tqdm(documents, desc=\"Processing documents\"):\n",
    "        main_text = text_preprocessing(doc[\"content\"].get(\"text\", \"\"))\n",
    "        replies = doc.get(\"engagement\", {}).get(\"replies\", [])\n",
    "\n",
    "        if not replies:\n",
    "            continue\n",
    "\n",
    "        for reply in replies:\n",
    "            reply_text = text_preprocessing(reply.get(\"content\", \"\"))\n",
    "\n",
    "            if not reply_text:\n",
    "                reply[\"status\"] = {\"label\": \"unknown\"}\n",
    "                continue\n",
    "\n",
    "            sequence_to_classify = f\"Main post: {main_text} Reply: {reply_text}\"\n",
    "\n",
    "            result = classifier(sequence_to_classify, labels)\n",
    "            predicted_label = result['labels'][0]\n",
    "            final_label = label_mapping[predicted_label]\n",
    "\n",
    "            reply[\"status\"] = {\"label\": final_label}\n",
    "\n",
    "    with open(\"oppose_data.json\", \"w\", encoding=\"utf-8\") as f:\n",
    "        json.dump(documents, f, ensure_ascii=False, indent=2)"
   ],
   "id": "762faa267c6f87f",
   "outputs": [],
   "execution_count": 13
  },
  {
   "metadata": {
    "ExecuteTime": {
     "end_time": "2025-05-19T07:27:12.562749Z",
     "start_time": "2025-05-19T07:12:04.482323Z"
    }
   },
   "cell_type": "code",
   "source": [
    "if __name__ == \"__main__\":\n",
    "    if response.status_code == 200:\n",
    "        data = response.json()\n",
    "        run_sentiment_pipeline(data)\n",
    "    else:\n",
    "        print(f\"Query failed: {response.status_code}, {response.text}\")"
   ],
   "id": "6c26c66f6c03923",
   "outputs": [
    {
     "name": "stderr",
     "output_type": "stream",
     "text": [
      "Processing documents: 100%|██████████| 2021/2021 [15:07<00:00,  2.23it/s]  \n"
     ]
    }
   ],
   "execution_count": 14
  },
  {
   "metadata": {},
   "cell_type": "code",
   "outputs": [],
   "execution_count": null,
   "source": "",
   "id": "3ab430513e4942cf"
  }
 ],
 "metadata": {
  "kernelspec": {
   "display_name": "Python 3",
   "language": "python",
   "name": "python3"
  },
  "language_info": {
   "codemirror_mode": {
    "name": "ipython",
    "version": 2
   },
   "file_extension": ".py",
   "mimetype": "text/x-python",
   "name": "python",
   "nbconvert_exporter": "python",
   "pygments_lexer": "ipython2",
   "version": "2.7.6"
  }
 },
 "nbformat": 4,
 "nbformat_minor": 5
}
