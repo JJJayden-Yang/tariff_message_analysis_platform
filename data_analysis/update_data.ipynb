{
 "cells": [
  {
   "metadata": {
    "ExecuteTime": {
     "end_time": "2025-05-19T04:49:32.329789Z",
     "start_time": "2025-05-19T04:49:32.325563Z"
    }
   },
   "cell_type": "code",
   "source": [
    "import requests\n",
    "import urllib3\n",
    "urllib3.disable_warnings(urllib3.exceptions.InsecureRequestWarning)\n",
    "import json\n",
    "import copy\n",
    "import logging\n",
    "logging.getLogger(\"transformers.modeling_utils\").setLevel(logging.ERROR)"
   ],
   "id": "de9a45d64e64607b",
   "outputs": [],
   "execution_count": 7
  },
  {
   "metadata": {
    "ExecuteTime": {
     "end_time": "2025-05-19T04:49:32.348130Z",
     "start_time": "2025-05-19T04:49:32.346157Z"
    }
   },
   "cell_type": "code",
   "source": [
    "ES_HOST = \"https://127.0.0.1:9200\"\n",
    "auth = ('elastic', 'elastic')\n",
    "headers = {'Content-Type': 'application/json'}"
   ],
   "id": "3575f973bf3a5eb3",
   "outputs": [],
   "execution_count": 8
  },
  {
   "metadata": {
    "ExecuteTime": {
     "end_time": "2025-05-19T04:49:32.363475Z",
     "start_time": "2025-05-19T04:49:32.359960Z"
    }
   },
   "cell_type": "code",
   "source": [
    "def scroll_fetch_all(index):\n",
    "    url = f\"{ES_HOST}/{index}/_search?scroll=2m\"\n",
    "    query = {\"size\": 1000, \"query\": {\"match_all\": {}}}\n",
    "    response = requests.get(url, headers=headers, auth=auth, json=query, verify=False)\n",
    "    res_json = response.json()\n",
    "\n",
    "    scroll_id = res_json[\"_scroll_id\"]\n",
    "    all_documents = {hit[\"_id\"]: hit[\"_source\"] for hit in res_json[\"hits\"][\"hits\"]}\n",
    "\n",
    "    while True:\n",
    "        scroll_response = requests.post(\n",
    "            f\"{ES_HOST}/_search/scroll\",\n",
    "            headers=headers,\n",
    "            auth=auth,\n",
    "            json={\"scroll\": \"2m\", \"scroll_id\": scroll_id},\n",
    "            verify=False\n",
    "        )\n",
    "        scroll_json = scroll_response.json()\n",
    "        hits = scroll_json[\"hits\"][\"hits\"]\n",
    "        if not hits:\n",
    "            break\n",
    "        scroll_id = scroll_json[\"_scroll_id\"]\n",
    "        all_documents.update({hit[\"_id\"]: hit[\"_source\"] for hit in hits})\n",
    "\n",
    "    return all_documents"
   ],
   "id": "c406620bfaf22fc5",
   "outputs": [],
   "execution_count": 9
  },
  {
   "metadata": {
    "ExecuteTime": {
     "end_time": "2025-05-19T04:49:36.749878Z",
     "start_time": "2025-05-19T04:49:32.374382Z"
    }
   },
   "cell_type": "code",
   "source": [
    "moutput_data = scroll_fetch_all(\"moutputdata\")\n",
    "sentiment_data = scroll_fetch_all(\"sentiment_status\")\n",
    "new_index = \"final_data\"\n",
    "with open('mapping.json', 'r', encoding='utf-8') as file:\n",
    "    mapping = json.load(file)"
   ],
   "id": "c616804320d14042",
   "outputs": [],
   "execution_count": 10
  },
  {
   "metadata": {
    "ExecuteTime": {
     "end_time": "2025-05-19T04:49:37.089058Z",
     "start_time": "2025-05-19T04:49:36.766791Z"
    }
   },
   "cell_type": "code",
   "source": [
    "requests.delete(f\"{ES_HOST}/{new_index}\", auth=auth, verify=False)\n",
    "requests.put(f\"{ES_HOST}/{new_index}\", headers=headers, auth=auth, json=mapping, verify=False)"
   ],
   "id": "476c66e11f6c2ccf",
   "outputs": [
    {
     "data": {
      "text/plain": [
       "<Response [200]>"
      ]
     },
     "execution_count": 11,
     "metadata": {},
     "output_type": "execute_result"
    }
   ],
   "execution_count": 11
  },
  {
   "metadata": {
    "ExecuteTime": {
     "end_time": "2025-05-19T07:00:05.684108Z",
     "start_time": "2025-05-19T07:00:05.681467Z"
    }
   },
   "cell_type": "code",
   "source": [
    "import os\n",
    "print(os.getcwd())"
   ],
   "id": "858ed2a6da53a2f2",
   "outputs": [
    {
     "name": "stdout",
     "output_type": "stream",
     "text": [
      "/Users/fayezhao/PycharmProjects/comp90024_team_72\n"
     ]
    }
   ],
   "execution_count": 14
  },
  {
   "metadata": {
    "ExecuteTime": {
     "end_time": "2025-05-19T04:49:53.276326Z",
     "start_time": "2025-05-19T04:49:37.103495Z"
    }
   },
   "cell_type": "code",
   "source": [
    "bulk_data = []\n",
    "\n",
    "for doc_id, moutput_doc in moutput_data.items():\n",
    "\n",
    "    merged_doc = copy.deepcopy(moutput_doc)\n",
    "\n",
    "    sentiment_doc = sentiment_data.get(doc_id)\n",
    "    if sentiment_doc:\n",
    "        merged_doc.setdefault(\"author\", {}).setdefault(\"status\", {})[\"score\"] = sentiment_doc[\"sentiment\"][\"score\"]\n",
    "        merged_doc[\"author\"][\"status\"][\"label\"] = sentiment_doc[\"sentiment\"][\"label\"]\n",
    "\n",
    "        if merged_doc.get(\"engagement\") is None:\n",
    "            merged_doc[\"engagement\"] = {\"favorites\": [], \"replies\": [], \"reblogs\": []}\n",
    "\n",
    "        for favorite in merged_doc[\"engagement\"].get(\"favorites\", []):\n",
    "            favorite.setdefault(\"status\", {})[\"label\"] = sentiment_doc[\"sentiment\"][\"label\"]\n",
    "\n",
    "        for reply in merged_doc[\"engagement\"].get(\"replies\", []):\n",
    "            reply.setdefault(\"status\", {})[\"label\"] = []\n",
    "\n",
    "        for reblog in merged_doc[\"engagement\"].get(\"reblogs\", []):\n",
    "            reblog.setdefault(\"status\", {})[\"label\"] = \"unknown\"\n",
    "\n",
    "        merged_doc.setdefault(\"engagement\", {}).setdefault(\"interaction_counts\", {})[\"favorites_count\"] = len(merged_doc.get(\"engagement\", {}).get(\"favorites\", []))\n",
    "        merged_doc[\"engagement\"][\"interaction_counts\"][\"reblogs_count\"] = len(merged_doc.get(\"engagement\", {}).get(\"reblogs\", []))\n",
    "        merged_doc[\"engagement\"][\"interaction_counts\"][\"replies_count\"] = len(merged_doc.get(\"engagement\", {}).get(\"replies\", []))\n",
    "\n",
    "    bulk_data.append(json.dumps({\"index\": {\"_index\": new_index, \"_id\": doc_id}}))\n",
    "    bulk_data.append(json.dumps(merged_doc))\n",
    "\n",
    "    if len(bulk_data) >= 1000 * 2:\n",
    "        bulk_response = requests.post(f\"{ES_HOST}/_bulk\", headers=headers, auth=auth, data=\"\\n\".join(bulk_data) + \"\\n\", verify=False)\n",
    "        bulk_data = []\n",
    "\n",
    "if bulk_data:\n",
    "    requests.post(f\"{ES_HOST}/_bulk\", headers=headers, auth=auth, data=\"\\n\".join(bulk_data) + \"\\n\", verify=False)"
   ],
   "id": "729d152f8e1f2223",
   "outputs": [],
   "execution_count": 12
  }
 ],
 "metadata": {
  "kernelspec": {
   "display_name": "Python 3",
   "language": "python",
   "name": "python3"
  },
  "language_info": {
   "codemirror_mode": {
    "name": "ipython",
    "version": 2
   },
   "file_extension": ".py",
   "mimetype": "text/x-python",
   "name": "python",
   "nbconvert_exporter": "python",
   "pygments_lexer": "ipython2",
   "version": "2.7.6"
  }
 },
 "nbformat": 4,
 "nbformat_minor": 5
}
